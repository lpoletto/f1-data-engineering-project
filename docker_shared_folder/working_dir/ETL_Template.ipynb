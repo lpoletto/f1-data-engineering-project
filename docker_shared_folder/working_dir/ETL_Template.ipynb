{
 "cells": [
  {
   "cell_type": "code",
   "execution_count": 3,
   "id": "42f58e52-168c-441c-9bd9-a3704d15995a",
   "metadata": {
    "tags": []
   },
   "outputs": [
    {
     "name": "stdout",
     "output_type": "stream",
     "text": [
      "Hola Mundo desde Docker!!!\n"
     ]
    }
   ],
   "source": [
    "print(\"Hola Mundo desde Docker!\")"
   ]
  },
  {
   "cell_type": "code",
   "execution_count": null,
   "id": "8fe4fe6f-43c2-4b1c-a85a-748f65d60590",
   "metadata": {},
   "outputs": [],
   "source": []
  }
 ],
 "metadata": {
  "kernelspec": {
   "display_name": "Python 3 (ipykernel)",
   "language": "python",
   "name": "python3"
  },
  "language_info": {
   "codemirror_mode": {
    "name": "ipython",
    "version": 3
   },
   "file_extension": ".py",
   "mimetype": "text/x-python",
   "name": "python",
   "nbconvert_exporter": "python",
   "pygments_lexer": "ipython3",
   "version": "3.10.10"
  }
 },
 "nbformat": 4,
 "nbformat_minor": 5
}
